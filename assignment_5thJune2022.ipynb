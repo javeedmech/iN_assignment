{
 "cells": [
  {
   "cell_type": "code",
   "execution_count": 1,
   "id": "3b349789",
   "metadata": {
    "scrolled": true
   },
   "outputs": [
    {
     "data": {
      "text/plain": [
       "[2, 3, 5, 7]"
      ]
     },
     "execution_count": 1,
     "metadata": {},
     "output_type": "execute_result"
    }
   ],
   "source": [
    "Todays task :\n",
    "    q1 : Try to print a prime number in between 1 to 1000\n",
    "    q2 : Try to write a function which  is equivalent  to print function in python\n",
    "    q3 : Try to write a function which is a replica of list append , extend and pop function \n",
    "    q4 : Try to write a lambda function which can return a concatination of all the string that we will pass\n",
    "    q5 : Try to write a lambda function which can return list of square of all the data between 1-100 \n",
    "    q6 : Try to write a 10 Different different example of lambda function with a choice of your taks \n",
    "    q7 : Try to wwrite a funtion whihc can perform a read operation from .txt file \n",
    "        \n",
    "        shivan@ineuron.ai\n",
    "        sudhashu@ineuron.ai"
   ]
  },
  {
   "cell_type": "code",
   "execution_count": 3,
   "id": "c21ca0c3",
   "metadata": {},
   "outputs": [
    {
     "data": {
      "text/plain": [
       "[2, 3, 5, 7]"
      ]
     },
     "execution_count": 3,
     "metadata": {},
     "output_type": "execute_result"
    }
   ],
   "source": [
    "#Q1:printing prime numbers 1,1000\n",
    "l=[]\n",
    "for i in range (2,10):\n",
    "    k=0\n",
    "    for j in range(2,i):\n",
    "        if i%j==0 :\n",
    "            k=k+1\n",
    "            break\n",
    "    if k==0:\n",
    "            l.append(i)\n",
    "\n",
    "l\n",
    "        "
   ]
  },
  {
   "cell_type": "code",
   "execution_count": 6,
   "id": "81c46812",
   "metadata": {},
   "outputs": [
    {
     "name": "stdout",
     "output_type": "stream",
     "text": [
      "hello how are you\n"
     ]
    }
   ],
   "source": [
    "#    q2 : Try to write a function which  is equivalent  to print function in python\n",
    "def tp (a):\n",
    "    print(a)\n",
    "\n",
    "tp('hello how are you')"
   ]
  },
  {
   "cell_type": "code",
   "execution_count": 52,
   "id": "aa75d998",
   "metadata": {},
   "outputs": [
    {
     "name": "stdout",
     "output_type": "stream",
     "text": [
      "[1, 2]\n",
      "[1, 2, 3, 4, 5]\n",
      "[1, 2, 3, 4, 5, 6]\n"
     ]
    }
   ],
   "source": [
    "#    q3 : Try to write a function which is a replica of list append , extend and pop function \n",
    "#pop function\n",
    "\n",
    "def testpop(a):\n",
    "    r=len(a)\n",
    "    a.remove(r)\n",
    "    print(a)\n",
    "\n",
    "testpop([1,2,3])\n",
    "\n",
    "#extend append\n",
    "l=[1,2,3,4]\n",
    "def testapnd(a):\n",
    "    l.insert(len(l),a)\n",
    "    print (l)\n",
    "testapnd(5)\n",
    "\n",
    "#extend function\n",
    "\n",
    "l=[1,2,3]\n",
    "k=[4,5,6]\n",
    "def testextnd(m,n):\n",
    "    for i in n:\n",
    "        m.append(i)\n",
    "    print(m)\n",
    "testextnd(l,k)\n",
    "\n",
    "    \n"
   ]
  },
  {
   "cell_type": "code",
   "execution_count": 80,
   "id": "b7febf4e",
   "metadata": {},
   "outputs": [
    {
     "name": "stdout",
     "output_type": "stream",
     "text": [
      "hello hi\n"
     ]
    }
   ],
   "source": [
    "    #q4 : Try to write a lambda function which can return a concatination of all the string that we will pass\n",
    "a=\"hello\"\n",
    "b=\"hi\"\n",
    "    l\n",
    "c=lambda a,b: print(a + \" \" + b)\n",
    "    \n",
    "c(a,b)"
   ]
  },
  {
   "cell_type": "code",
   "execution_count": 84,
   "id": "e3025c84",
   "metadata": {},
   "outputs": [
    {
     "data": {
      "text/plain": [
       "[1, 4, 9, 16, 25, 36, 49, 64, 81]"
      ]
     },
     "execution_count": 84,
     "metadata": {},
     "output_type": "execute_result"
    }
   ],
   "source": [
    "#    q5 : Try to write a lambda function which can return list of square of all the data between 1-100 \n",
    "c=lambda a,b: [i**2 for i in range(a,b)]\n",
    "c(1,10)\n",
    "\n",
    "\n"
   ]
  },
  {
   "cell_type": "code",
   "execution_count": 108,
   "id": "ae8dfee6",
   "metadata": {},
   "outputs": [
    {
     "name": "stdout",
     "output_type": "stream",
     "text": [
      "15\n",
      "[1, 4, 9]\n"
     ]
    },
    {
     "data": {
      "text/plain": [
       "6"
      ]
     },
     "execution_count": 108,
     "metadata": {},
     "output_type": "execute_result"
    }
   ],
   "source": [
    "#  q6 : Try to write a 10 Different different example of lambda function with a choice of your taks \n",
    "#1: addition\n",
    "x = lambda a : a + 10\n",
    "print(x(5))\n",
    "#2: taking argument and squaring\n",
    "x=lambda *a: [i*i for i in a]\n",
    "print(x(1,2,3))\n",
    "#3: adding keywords\n",
    "(lambda **kwargs: sum(kwargs.values()))(a=1, b=2, c=3)\n"
   ]
  },
  {
   "cell_type": "code",
   "execution_count": 117,
   "id": "172333e6",
   "metadata": {},
   "outputs": [
    {
     "name": "stdout",
     "output_type": "stream",
     "text": [
      "enter file name with extensiontest_text.txt\n"
     ]
    },
    {
     "data": {
      "text/plain": [
       "<_io.TextIOWrapper name='test_text.txt' mode='r' encoding='cp1252'>"
      ]
     },
     "execution_count": 117,
     "metadata": {},
     "output_type": "execute_result"
    }
   ],
   "source": [
    "#   q7 : Try to wwrite a funtion whihc can perform a read operation from .txt file \n",
    "def opn (a):\n",
    "    f = open(a,'r')\n",
    "    return f\n",
    "a=input('enter file name with extension')\n",
    "\n",
    "opn(a)\n",
    "\n"
   ]
  },
  {
   "cell_type": "code",
   "execution_count": null,
   "id": "f8f6474e",
   "metadata": {},
   "outputs": [],
   "source": []
  }
 ],
 "metadata": {
  "kernelspec": {
   "display_name": "Python 3 (ipykernel)",
   "language": "python",
   "name": "python3"
  },
  "language_info": {
   "codemirror_mode": {
    "name": "ipython",
    "version": 3
   },
   "file_extension": ".py",
   "mimetype": "text/x-python",
   "name": "python",
   "nbconvert_exporter": "python",
   "pygments_lexer": "ipython3",
   "version": "3.9.7"
  }
 },
 "nbformat": 4,
 "nbformat_minor": 5
}
